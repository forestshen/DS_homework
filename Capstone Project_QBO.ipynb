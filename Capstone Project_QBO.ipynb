{
 "cells": [
  {
   "cell_type": "markdown",
   "metadata": {},
   "source": [
    "# QBO Customer Bank Transaction Type Prediction"
   ]
  },
  {
   "cell_type": "markdown",
   "metadata": {},
   "source": [
    "## Focus on predicting Rent, Payroll, Utilities for this project"
   ]
  },
  {
   "cell_type": "code",
   "execution_count": 1,
   "metadata": {},
   "outputs": [],
   "source": [
    "import pandas as pd\n",
    "import matplotlib as plt\n",
    "import seaborn as sns"
   ]
  },
  {
   "cell_type": "code",
   "execution_count": 3,
   "metadata": {},
   "outputs": [],
   "source": [
    "# load data\n",
    "# data source: qbf_ds.fact_qbo_transaction\n",
    "#              ued_qbo_dwh.ofxtransactions_vw\n",
    "# above two tables are joined on txn_id, and we took transactions with transaction date from 2019/04 to 2019/11\n",
    "\n",
    "\n",
    "df = pd.read_csv(\"qbo.csv\")"
   ]
  },
  {
   "cell_type": "code",
   "execution_count": 4,
   "metadata": {},
   "outputs": [
    {
     "data": {
      "text/html": [
       "<div>\n",
       "<style scoped>\n",
       "    .dataframe tbody tr th:only-of-type {\n",
       "        vertical-align: middle;\n",
       "    }\n",
       "\n",
       "    .dataframe tbody tr th {\n",
       "        vertical-align: top;\n",
       "    }\n",
       "\n",
       "    .dataframe thead th {\n",
       "        text-align: right;\n",
       "    }\n",
       "</style>\n",
       "<table border=\"1\" class=\"dataframe\">\n",
       "  <thead>\n",
       "    <tr style=\"text-align: right;\">\n",
       "      <th></th>\n",
       "      <th>t1.company_id</th>\n",
       "      <th>t1.customer_id</th>\n",
       "      <th>t1.ofx_txn_id</th>\n",
       "      <th>t1.tx_id</th>\n",
       "      <th>t1.tx_date</th>\n",
       "      <th>t1.due_date</th>\n",
       "      <th>t1.paid_date</th>\n",
       "      <th>t1.amount</th>\n",
       "      <th>t1.raw_amount</th>\n",
       "      <th>t1.first_charge_date</th>\n",
       "      <th>...</th>\n",
       "      <th>t1.src_create_date</th>\n",
       "      <th>t1.created_date</th>\n",
       "      <th>t2.company_id</th>\n",
       "      <th>t2.txn_id</th>\n",
       "      <th>t2.ofx_memo</th>\n",
       "      <th>t2.ofx_payee</th>\n",
       "      <th>t2.create_date</th>\n",
       "      <th>t2.last_modify_date</th>\n",
       "      <th>t2.cleaned_up_payee</th>\n",
       "      <th>t2.cat_category</th>\n",
       "    </tr>\n",
       "  </thead>\n",
       "  <tbody>\n",
       "    <tr>\n",
       "      <th>0</th>\n",
       "      <td>51222621.0</td>\n",
       "      <td>NaN</td>\n",
       "      <td>9622.0</td>\n",
       "      <td>135905.0</td>\n",
       "      <td>2019-08-13 07:00:00.0</td>\n",
       "      <td>NaN</td>\n",
       "      <td>NaN</td>\n",
       "      <td>17.11</td>\n",
       "      <td>-1.711000e+08</td>\n",
       "      <td>2001-12-01</td>\n",
       "      <td>...</td>\n",
       "      <td>2019-09-25 21:43:37.0</td>\n",
       "      <td>2019-12-01 23:04:35.324</td>\n",
       "      <td>51222621.0</td>\n",
       "      <td>9622.0</td>\n",
       "      <td>NaN</td>\n",
       "      <td>HIGHTAIL - 669-222-8281, CA</td>\n",
       "      <td>2019-09-25 20:58:51.0</td>\n",
       "      <td>2019-09-25 21:43:37.0</td>\n",
       "      <td>Hightail Ca</td>\n",
       "      <td>Computer</td>\n",
       "    </tr>\n",
       "    <tr>\n",
       "      <th>1</th>\n",
       "      <td>51222630.0</td>\n",
       "      <td>NaN</td>\n",
       "      <td>9301.0</td>\n",
       "      <td>26834.0</td>\n",
       "      <td>2019-07-30 07:00:00.0</td>\n",
       "      <td>NaN</td>\n",
       "      <td>NaN</td>\n",
       "      <td>-13000.00</td>\n",
       "      <td>-1.300000e+11</td>\n",
       "      <td>2001-12-01</td>\n",
       "      <td>...</td>\n",
       "      <td>2019-08-03 22:34:40.0</td>\n",
       "      <td>2019-12-01 23:04:35.324</td>\n",
       "      <td>51222630.0</td>\n",
       "      <td>9301.0</td>\n",
       "      <td>NaN</td>\n",
       "      <td>OUTGOING FEDWIRE TRANSFER - MANU</td>\n",
       "      <td>2019-07-31 18:09:27.0</td>\n",
       "      <td>2019-08-03 23:57:49.0</td>\n",
       "      <td>Outgoing Fedwire Transfer</td>\n",
       "      <td>Intercam Banco</td>\n",
       "    </tr>\n",
       "    <tr>\n",
       "      <th>2</th>\n",
       "      <td>51224444.0</td>\n",
       "      <td>NaN</td>\n",
       "      <td>619.0</td>\n",
       "      <td>11643.0</td>\n",
       "      <td>2019-10-03 07:00:00.0</td>\n",
       "      <td>NaN</td>\n",
       "      <td>NaN</td>\n",
       "      <td>182.71</td>\n",
       "      <td>-1.827100e+09</td>\n",
       "      <td>2009-05-14</td>\n",
       "      <td>...</td>\n",
       "      <td>2019-11-15 21:47:10.0</td>\n",
       "      <td>2019-12-01 23:04:35.324</td>\n",
       "      <td>51224444.0</td>\n",
       "      <td>619.0</td>\n",
       "      <td>NaN</td>\n",
       "      <td>BCY*BACKCOUNTRY.COM</td>\n",
       "      <td>2019-10-05 05:58:58.0</td>\n",
       "      <td>2019-11-15 21:47:10.0</td>\n",
       "      <td>Backcountry</td>\n",
       "      <td>Returned Stuff</td>\n",
       "    </tr>\n",
       "    <tr>\n",
       "      <th>3</th>\n",
       "      <td>51301701.0</td>\n",
       "      <td>1174.0</td>\n",
       "      <td>23808.0</td>\n",
       "      <td>76424.0</td>\n",
       "      <td>2019-06-18 07:00:00.0</td>\n",
       "      <td>NaN</td>\n",
       "      <td>NaN</td>\n",
       "      <td>15377.00</td>\n",
       "      <td>1.537700e+11</td>\n",
       "      <td>2001-12-01</td>\n",
       "      <td>...</td>\n",
       "      <td>2019-06-25 01:01:00.0</td>\n",
       "      <td>2019-12-01 23:04:35.324</td>\n",
       "      <td>51301701.0</td>\n",
       "      <td>23808.0</td>\n",
       "      <td>PREAUTHORIZED ACH CREDIT HOMEWISEDOCS.COM/PAYA...</td>\n",
       "      <td>HOMEWISEDOCS.COM/PAY</td>\n",
       "      <td>2019-06-25 00:57:03.0</td>\n",
       "      <td>2019-06-25 01:01:00.0</td>\n",
       "      <td>Homewisedocs.com Payables Crummack</td>\n",
       "      <td>Income</td>\n",
       "    </tr>\n",
       "    <tr>\n",
       "      <th>4</th>\n",
       "      <td>51301701.0</td>\n",
       "      <td>2000.0</td>\n",
       "      <td>24046.0</td>\n",
       "      <td>76945.0</td>\n",
       "      <td>2019-07-22 07:00:00.0</td>\n",
       "      <td>NaN</td>\n",
       "      <td>NaN</td>\n",
       "      <td>1575.00</td>\n",
       "      <td>1.575000e+10</td>\n",
       "      <td>2001-12-01</td>\n",
       "      <td>...</td>\n",
       "      <td>2019-07-26 18:38:49.0</td>\n",
       "      <td>2019-12-01 23:04:35.324</td>\n",
       "      <td>51301701.0</td>\n",
       "      <td>24046.0</td>\n",
       "      <td>DEPOSIT REMOTE CAPTURE DEPOSIT</td>\n",
       "      <td>20190722-000000005250259670944</td>\n",
       "      <td>2019-07-26 18:36:00.0</td>\n",
       "      <td>2019-07-26 18:38:49.0</td>\n",
       "      <td>Deposit Remote Capture</td>\n",
       "      <td>1200 - Management Fees Due</td>\n",
       "    </tr>\n",
       "  </tbody>\n",
       "</table>\n",
       "<p>5 rows × 21 columns</p>\n",
       "</div>"
      ],
      "text/plain": [
       "   t1.company_id  t1.customer_id  t1.ofx_txn_id  t1.tx_id  \\\n",
       "0     51222621.0             NaN         9622.0  135905.0   \n",
       "1     51222630.0             NaN         9301.0   26834.0   \n",
       "2     51224444.0             NaN          619.0   11643.0   \n",
       "3     51301701.0          1174.0        23808.0   76424.0   \n",
       "4     51301701.0          2000.0        24046.0   76945.0   \n",
       "\n",
       "              t1.tx_date  t1.due_date  t1.paid_date  t1.amount  t1.raw_amount  \\\n",
       "0  2019-08-13 07:00:00.0          NaN           NaN      17.11  -1.711000e+08   \n",
       "1  2019-07-30 07:00:00.0          NaN           NaN  -13000.00  -1.300000e+11   \n",
       "2  2019-10-03 07:00:00.0          NaN           NaN     182.71  -1.827100e+09   \n",
       "3  2019-06-18 07:00:00.0          NaN           NaN   15377.00   1.537700e+11   \n",
       "4  2019-07-22 07:00:00.0          NaN           NaN    1575.00   1.575000e+10   \n",
       "\n",
       "  t1.first_charge_date             ...                 t1.src_create_date  \\\n",
       "0           2001-12-01             ...              2019-09-25 21:43:37.0   \n",
       "1           2001-12-01             ...              2019-08-03 22:34:40.0   \n",
       "2           2009-05-14             ...              2019-11-15 21:47:10.0   \n",
       "3           2001-12-01             ...              2019-06-25 01:01:00.0   \n",
       "4           2001-12-01             ...              2019-07-26 18:38:49.0   \n",
       "\n",
       "           t1.created_date t2.company_id  t2.txn_id  \\\n",
       "0  2019-12-01 23:04:35.324    51222621.0     9622.0   \n",
       "1  2019-12-01 23:04:35.324    51222630.0     9301.0   \n",
       "2  2019-12-01 23:04:35.324    51224444.0      619.0   \n",
       "3  2019-12-01 23:04:35.324    51301701.0    23808.0   \n",
       "4  2019-12-01 23:04:35.324    51301701.0    24046.0   \n",
       "\n",
       "                                         t2.ofx_memo  \\\n",
       "0                                                NaN   \n",
       "1                                                NaN   \n",
       "2                                                NaN   \n",
       "3  PREAUTHORIZED ACH CREDIT HOMEWISEDOCS.COM/PAYA...   \n",
       "4                     DEPOSIT REMOTE CAPTURE DEPOSIT   \n",
       "\n",
       "                       t2.ofx_payee         t2.create_date  \\\n",
       "0       HIGHTAIL - 669-222-8281, CA  2019-09-25 20:58:51.0   \n",
       "1  OUTGOING FEDWIRE TRANSFER - MANU  2019-07-31 18:09:27.0   \n",
       "2               BCY*BACKCOUNTRY.COM  2019-10-05 05:58:58.0   \n",
       "3              HOMEWISEDOCS.COM/PAY  2019-06-25 00:57:03.0   \n",
       "4    20190722-000000005250259670944  2019-07-26 18:36:00.0   \n",
       "\n",
       "     t2.last_modify_date                 t2.cleaned_up_payee  \\\n",
       "0  2019-09-25 21:43:37.0                         Hightail Ca   \n",
       "1  2019-08-03 23:57:49.0           Outgoing Fedwire Transfer   \n",
       "2  2019-11-15 21:47:10.0                         Backcountry   \n",
       "3  2019-06-25 01:01:00.0  Homewisedocs.com Payables Crummack   \n",
       "4  2019-07-26 18:38:49.0              Deposit Remote Capture   \n",
       "\n",
       "              t2.cat_category  \n",
       "0                    Computer  \n",
       "1              Intercam Banco  \n",
       "2              Returned Stuff  \n",
       "3                      Income  \n",
       "4  1200 - Management Fees Due  \n",
       "\n",
       "[5 rows x 21 columns]"
      ]
     },
     "execution_count": 4,
     "metadata": {},
     "output_type": "execute_result"
    }
   ],
   "source": [
    "df.head()"
   ]
  },
  {
   "cell_type": "code",
   "execution_count": 5,
   "metadata": {},
   "outputs": [
    {
     "data": {
      "text/plain": [
       "(558192, 21)"
      ]
     },
     "execution_count": 5,
     "metadata": {},
     "output_type": "execute_result"
    }
   ],
   "source": [
    "df.shape"
   ]
  },
  {
   "cell_type": "code",
   "execution_count": 8,
   "metadata": {},
   "outputs": [
    {
     "name": "stdout",
     "output_type": "stream",
     "text": [
      "['t1.company_id', 't1.customer_id', 't1.ofx_txn_id', 't1.tx_id', 't1.tx_date', 't1.due_date', 't1.paid_date', 't1.amount', 't1.raw_amount', 't1.first_charge_date', 't1.src_last_updated_date', 't1.src_create_date', 't1.created_date', 't2.company_id', 't2.txn_id', 't2.ofx_memo', 't2.ofx_payee', 't2.create_date', 't2.last_modify_date', 't2.cleaned_up_payee', 't2.cat_category']\n"
     ]
    }
   ],
   "source": [
    "# clean up columns to make it more readable\n",
    "print(list(df.columns))"
   ]
  },
  {
   "cell_type": "code",
   "execution_count": 9,
   "metadata": {},
   "outputs": [],
   "source": [
    "columns = ['company_id', 'customer_id', 't1.ofx_txn_id', 't1.tx_id', 'tx_date',\n",
    "           'due_date', 'paid_date', 'amount', 'raw_amount', 'first_charge_date', \n",
    "           'src_last_updated_date', 'src_create_date', 'created_date', 't2.company_id',\n",
    "           't2.txn_id', 'ofx_memo', 'ofx_payee', 't2.create_date', 'last_modify_date', \n",
    "           'cleaned_up_payee', 'category']"
   ]
  },
  {
   "cell_type": "code",
   "execution_count": 10,
   "metadata": {},
   "outputs": [],
   "source": [
    "df.columns = columns"
   ]
  },
  {
   "cell_type": "code",
   "execution_count": 11,
   "metadata": {},
   "outputs": [
    {
     "data": {
      "text/html": [
       "<div>\n",
       "<style scoped>\n",
       "    .dataframe tbody tr th:only-of-type {\n",
       "        vertical-align: middle;\n",
       "    }\n",
       "\n",
       "    .dataframe tbody tr th {\n",
       "        vertical-align: top;\n",
       "    }\n",
       "\n",
       "    .dataframe thead th {\n",
       "        text-align: right;\n",
       "    }\n",
       "</style>\n",
       "<table border=\"1\" class=\"dataframe\">\n",
       "  <thead>\n",
       "    <tr style=\"text-align: right;\">\n",
       "      <th></th>\n",
       "      <th>company_id</th>\n",
       "      <th>customer_id</th>\n",
       "      <th>t1.ofx_txn_id</th>\n",
       "      <th>t1.tx_id</th>\n",
       "      <th>tx_date</th>\n",
       "      <th>due_date</th>\n",
       "      <th>paid_date</th>\n",
       "      <th>amount</th>\n",
       "      <th>raw_amount</th>\n",
       "      <th>first_charge_date</th>\n",
       "      <th>...</th>\n",
       "      <th>src_create_date</th>\n",
       "      <th>created_date</th>\n",
       "      <th>t2.company_id</th>\n",
       "      <th>t2.txn_id</th>\n",
       "      <th>ofx_memo</th>\n",
       "      <th>ofx_payee</th>\n",
       "      <th>t2.create_date</th>\n",
       "      <th>last_modify_date</th>\n",
       "      <th>cleaned_up_payee</th>\n",
       "      <th>category</th>\n",
       "    </tr>\n",
       "  </thead>\n",
       "  <tbody>\n",
       "    <tr>\n",
       "      <th>0</th>\n",
       "      <td>51222621.0</td>\n",
       "      <td>NaN</td>\n",
       "      <td>9622.0</td>\n",
       "      <td>135905.0</td>\n",
       "      <td>2019-08-13 07:00:00.0</td>\n",
       "      <td>NaN</td>\n",
       "      <td>NaN</td>\n",
       "      <td>17.11</td>\n",
       "      <td>-1.711000e+08</td>\n",
       "      <td>2001-12-01</td>\n",
       "      <td>...</td>\n",
       "      <td>2019-09-25 21:43:37.0</td>\n",
       "      <td>2019-12-01 23:04:35.324</td>\n",
       "      <td>51222621.0</td>\n",
       "      <td>9622.0</td>\n",
       "      <td>NaN</td>\n",
       "      <td>HIGHTAIL - 669-222-8281, CA</td>\n",
       "      <td>2019-09-25 20:58:51.0</td>\n",
       "      <td>2019-09-25 21:43:37.0</td>\n",
       "      <td>Hightail Ca</td>\n",
       "      <td>Computer</td>\n",
       "    </tr>\n",
       "    <tr>\n",
       "      <th>1</th>\n",
       "      <td>51222630.0</td>\n",
       "      <td>NaN</td>\n",
       "      <td>9301.0</td>\n",
       "      <td>26834.0</td>\n",
       "      <td>2019-07-30 07:00:00.0</td>\n",
       "      <td>NaN</td>\n",
       "      <td>NaN</td>\n",
       "      <td>-13000.00</td>\n",
       "      <td>-1.300000e+11</td>\n",
       "      <td>2001-12-01</td>\n",
       "      <td>...</td>\n",
       "      <td>2019-08-03 22:34:40.0</td>\n",
       "      <td>2019-12-01 23:04:35.324</td>\n",
       "      <td>51222630.0</td>\n",
       "      <td>9301.0</td>\n",
       "      <td>NaN</td>\n",
       "      <td>OUTGOING FEDWIRE TRANSFER - MANU</td>\n",
       "      <td>2019-07-31 18:09:27.0</td>\n",
       "      <td>2019-08-03 23:57:49.0</td>\n",
       "      <td>Outgoing Fedwire Transfer</td>\n",
       "      <td>Intercam Banco</td>\n",
       "    </tr>\n",
       "    <tr>\n",
       "      <th>2</th>\n",
       "      <td>51224444.0</td>\n",
       "      <td>NaN</td>\n",
       "      <td>619.0</td>\n",
       "      <td>11643.0</td>\n",
       "      <td>2019-10-03 07:00:00.0</td>\n",
       "      <td>NaN</td>\n",
       "      <td>NaN</td>\n",
       "      <td>182.71</td>\n",
       "      <td>-1.827100e+09</td>\n",
       "      <td>2009-05-14</td>\n",
       "      <td>...</td>\n",
       "      <td>2019-11-15 21:47:10.0</td>\n",
       "      <td>2019-12-01 23:04:35.324</td>\n",
       "      <td>51224444.0</td>\n",
       "      <td>619.0</td>\n",
       "      <td>NaN</td>\n",
       "      <td>BCY*BACKCOUNTRY.COM</td>\n",
       "      <td>2019-10-05 05:58:58.0</td>\n",
       "      <td>2019-11-15 21:47:10.0</td>\n",
       "      <td>Backcountry</td>\n",
       "      <td>Returned Stuff</td>\n",
       "    </tr>\n",
       "    <tr>\n",
       "      <th>3</th>\n",
       "      <td>51301701.0</td>\n",
       "      <td>1174.0</td>\n",
       "      <td>23808.0</td>\n",
       "      <td>76424.0</td>\n",
       "      <td>2019-06-18 07:00:00.0</td>\n",
       "      <td>NaN</td>\n",
       "      <td>NaN</td>\n",
       "      <td>15377.00</td>\n",
       "      <td>1.537700e+11</td>\n",
       "      <td>2001-12-01</td>\n",
       "      <td>...</td>\n",
       "      <td>2019-06-25 01:01:00.0</td>\n",
       "      <td>2019-12-01 23:04:35.324</td>\n",
       "      <td>51301701.0</td>\n",
       "      <td>23808.0</td>\n",
       "      <td>PREAUTHORIZED ACH CREDIT HOMEWISEDOCS.COM/PAYA...</td>\n",
       "      <td>HOMEWISEDOCS.COM/PAY</td>\n",
       "      <td>2019-06-25 00:57:03.0</td>\n",
       "      <td>2019-06-25 01:01:00.0</td>\n",
       "      <td>Homewisedocs.com Payables Crummack</td>\n",
       "      <td>Income</td>\n",
       "    </tr>\n",
       "    <tr>\n",
       "      <th>4</th>\n",
       "      <td>51301701.0</td>\n",
       "      <td>2000.0</td>\n",
       "      <td>24046.0</td>\n",
       "      <td>76945.0</td>\n",
       "      <td>2019-07-22 07:00:00.0</td>\n",
       "      <td>NaN</td>\n",
       "      <td>NaN</td>\n",
       "      <td>1575.00</td>\n",
       "      <td>1.575000e+10</td>\n",
       "      <td>2001-12-01</td>\n",
       "      <td>...</td>\n",
       "      <td>2019-07-26 18:38:49.0</td>\n",
       "      <td>2019-12-01 23:04:35.324</td>\n",
       "      <td>51301701.0</td>\n",
       "      <td>24046.0</td>\n",
       "      <td>DEPOSIT REMOTE CAPTURE DEPOSIT</td>\n",
       "      <td>20190722-000000005250259670944</td>\n",
       "      <td>2019-07-26 18:36:00.0</td>\n",
       "      <td>2019-07-26 18:38:49.0</td>\n",
       "      <td>Deposit Remote Capture</td>\n",
       "      <td>1200 - Management Fees Due</td>\n",
       "    </tr>\n",
       "  </tbody>\n",
       "</table>\n",
       "<p>5 rows × 21 columns</p>\n",
       "</div>"
      ],
      "text/plain": [
       "   company_id  customer_id  t1.ofx_txn_id  t1.tx_id                tx_date  \\\n",
       "0  51222621.0          NaN         9622.0  135905.0  2019-08-13 07:00:00.0   \n",
       "1  51222630.0          NaN         9301.0   26834.0  2019-07-30 07:00:00.0   \n",
       "2  51224444.0          NaN          619.0   11643.0  2019-10-03 07:00:00.0   \n",
       "3  51301701.0       1174.0        23808.0   76424.0  2019-06-18 07:00:00.0   \n",
       "4  51301701.0       2000.0        24046.0   76945.0  2019-07-22 07:00:00.0   \n",
       "\n",
       "   due_date  paid_date    amount    raw_amount first_charge_date  \\\n",
       "0       NaN        NaN     17.11 -1.711000e+08        2001-12-01   \n",
       "1       NaN        NaN -13000.00 -1.300000e+11        2001-12-01   \n",
       "2       NaN        NaN    182.71 -1.827100e+09        2009-05-14   \n",
       "3       NaN        NaN  15377.00  1.537700e+11        2001-12-01   \n",
       "4       NaN        NaN   1575.00  1.575000e+10        2001-12-01   \n",
       "\n",
       "              ...                    src_create_date             created_date  \\\n",
       "0             ...              2019-09-25 21:43:37.0  2019-12-01 23:04:35.324   \n",
       "1             ...              2019-08-03 22:34:40.0  2019-12-01 23:04:35.324   \n",
       "2             ...              2019-11-15 21:47:10.0  2019-12-01 23:04:35.324   \n",
       "3             ...              2019-06-25 01:01:00.0  2019-12-01 23:04:35.324   \n",
       "4             ...              2019-07-26 18:38:49.0  2019-12-01 23:04:35.324   \n",
       "\n",
       "  t2.company_id  t2.txn_id                                           ofx_memo  \\\n",
       "0    51222621.0     9622.0                                                NaN   \n",
       "1    51222630.0     9301.0                                                NaN   \n",
       "2    51224444.0      619.0                                                NaN   \n",
       "3    51301701.0    23808.0  PREAUTHORIZED ACH CREDIT HOMEWISEDOCS.COM/PAYA...   \n",
       "4    51301701.0    24046.0                     DEPOSIT REMOTE CAPTURE DEPOSIT   \n",
       "\n",
       "                          ofx_payee         t2.create_date  \\\n",
       "0       HIGHTAIL - 669-222-8281, CA  2019-09-25 20:58:51.0   \n",
       "1  OUTGOING FEDWIRE TRANSFER - MANU  2019-07-31 18:09:27.0   \n",
       "2               BCY*BACKCOUNTRY.COM  2019-10-05 05:58:58.0   \n",
       "3              HOMEWISEDOCS.COM/PAY  2019-06-25 00:57:03.0   \n",
       "4    20190722-000000005250259670944  2019-07-26 18:36:00.0   \n",
       "\n",
       "        last_modify_date                    cleaned_up_payee  \\\n",
       "0  2019-09-25 21:43:37.0                         Hightail Ca   \n",
       "1  2019-08-03 23:57:49.0           Outgoing Fedwire Transfer   \n",
       "2  2019-11-15 21:47:10.0                         Backcountry   \n",
       "3  2019-06-25 01:01:00.0  Homewisedocs.com Payables Crummack   \n",
       "4  2019-07-26 18:38:49.0              Deposit Remote Capture   \n",
       "\n",
       "                     category  \n",
       "0                    Computer  \n",
       "1              Intercam Banco  \n",
       "2              Returned Stuff  \n",
       "3                      Income  \n",
       "4  1200 - Management Fees Due  \n",
       "\n",
       "[5 rows x 21 columns]"
      ]
     },
     "execution_count": 11,
     "metadata": {},
     "output_type": "execute_result"
    }
   ],
   "source": [
    "df.head()"
   ]
  },
  {
   "cell_type": "code",
   "execution_count": 34,
   "metadata": {},
   "outputs": [
    {
     "data": {
      "text/plain": [
       "company_id                    0\n",
       "customer_id              503405\n",
       "t1.ofx_txn_id                 0\n",
       "t1.tx_id                      0\n",
       "tx_date                       0\n",
       "due_date                 558192\n",
       "paid_date                558192\n",
       "amount                        0\n",
       "raw_amount                    0\n",
       "first_charge_date             0\n",
       "src_last_updated_date         0\n",
       "src_create_date               0\n",
       "created_date                  0\n",
       "t2.company_id                 0\n",
       "t2.txn_id                     0\n",
       "ofx_memo                 339737\n",
       "ofx_payee                   385\n",
       "t2.create_date                0\n",
       "last_modify_date              0\n",
       "cleaned_up_payee            774\n",
       "category                    960\n",
       "cat                           0\n",
       "dtype: int64"
      ]
     },
     "execution_count": 34,
     "metadata": {},
     "output_type": "execute_result"
    }
   ],
   "source": [
    "# check null values\n",
    "df.isnull().sum()"
   ]
  },
  {
   "cell_type": "code",
   "execution_count": 39,
   "metadata": {},
   "outputs": [],
   "source": [
    "# drop the rows if category is null\n",
    "# can drop more rows if column value is null\n",
    "\n",
    "df = df.dropna(subset=['category'])"
   ]
  },
  {
   "cell_type": "code",
   "execution_count": 40,
   "metadata": {},
   "outputs": [
    {
     "data": {
      "text/plain": [
       "company_id                    0\n",
       "customer_id              502605\n",
       "t1.ofx_txn_id                 0\n",
       "t1.tx_id                      0\n",
       "tx_date                       0\n",
       "due_date                 557232\n",
       "paid_date                557232\n",
       "amount                        0\n",
       "raw_amount                    0\n",
       "first_charge_date             0\n",
       "src_last_updated_date         0\n",
       "src_create_date               0\n",
       "created_date                  0\n",
       "t2.company_id                 0\n",
       "t2.txn_id                     0\n",
       "ofx_memo                 338822\n",
       "ofx_payee                   378\n",
       "t2.create_date                0\n",
       "last_modify_date              0\n",
       "cleaned_up_payee              6\n",
       "category                      0\n",
       "cat                           0\n",
       "dtype: int64"
      ]
     },
     "execution_count": 40,
     "metadata": {},
     "output_type": "execute_result"
    }
   ],
   "source": [
    "# validate\n",
    "df.isnull().sum()"
   ]
  },
  {
   "cell_type": "code",
   "execution_count": 108,
   "metadata": {},
   "outputs": [],
   "source": [
    "# create a function to clean up category column, to use as our target. \n",
    "\n",
    "def clean_category(category):\n",
    "    category = str(category)\n",
    "    cat_list = category.split(\" \")\n",
    "    cat_list = [x.lower() for x in cat_list]\n",
    "    if 'payroll' in cat_list:\n",
    "        return 'payroll'\n",
    "    elif 'rent' in cat_list:\n",
    "        return 'rent'\n",
    "    elif 'utilit' in str(category).lower():\n",
    "        return 'utilities'\n",
    "    else:\n",
    "        return 'other'"
   ]
  },
  {
   "cell_type": "code",
   "execution_count": 111,
   "metadata": {},
   "outputs": [],
   "source": [
    "# create a new column 'cat' for the cleaned version of category\n",
    "\n",
    "df['cat'] = df.category.apply(clean_category)"
   ]
  },
  {
   "cell_type": "code",
   "execution_count": 112,
   "metadata": {},
   "outputs": [
    {
     "data": {
      "text/plain": [
       "other        532948\n",
       "payroll       12793\n",
       "utilities      7337\n",
       "rent           4154\n",
       "Name: cat, dtype: int64"
      ]
     },
     "execution_count": 112,
     "metadata": {},
     "output_type": "execute_result"
    }
   ],
   "source": [
    "df.cat.value_counts()"
   ]
  },
  {
   "cell_type": "code",
   "execution_count": 113,
   "metadata": {},
   "outputs": [],
   "source": [
    "#df[df.category.str.contains('payroll')]\n",
    "#df[df.category.str.contains('rent')]\n",
    "#df[df.category.str.contains('utilit')]"
   ]
  },
  {
   "cell_type": "code",
   "execution_count": 117,
   "metadata": {},
   "outputs": [],
   "source": [
    "#df[df.cat=='payroll']\n",
    "#df[df.cat=='rent']\n",
    "#df[df.cat=='utilities']"
   ]
  },
  {
   "cell_type": "code",
   "execution_count": 126,
   "metadata": {},
   "outputs": [
    {
     "data": {
      "image/png": "[encoded data removed]",
      "text/plain": [
       "<Figure size 432x288 with 1 Axes>"
      ]
     },
     "metadata": {
      "needs_background": "light"
     },
     "output_type": "display_data"
    }
   ],
   "source": [
    "df['cat'].value_counts().plot('bar');"
   ]
  },
  {
   "cell_type": "code",
   "execution_count": 129,
   "metadata": {},
   "outputs": [
    {
     "data": {
      "text/plain": [
       "<matplotlib.axes._subplots.AxesSubplot at 0x1a557250d0>"
      ]
     },
     "execution_count": 129,
     "metadata": {},
     "output_type": "execute_result"
    },
    {
     "data": {
      "image/png": "[encoded data removed]",
      "text/plain": [
       "<Figure size 432x288 with 1 Axes>"
      ]
     },
     "metadata": {
      "needs_background": "light"
     },
     "output_type": "display_data"
    }
   ],
   "source": [
    "df[df.cat!='other'].cat.value_counts().plot('bar')"
   ]
  },
  {
   "cell_type": "code",
   "execution_count": null,
   "metadata": {},
   "outputs": [],
   "source": []
  }
 ],
 "metadata": {
  "kernelspec": {
   "display_name": "Python 3",
   "language": "python",
   "name": "python3"
  },
  "language_info": {
   "codemirror_mode": {
    "name": "ipython",
    "version": 3
   },
   "file_extension": ".py",
   "mimetype": "text/x-python",
   "name": "python",
   "nbconvert_exporter": "python",
   "pygments_lexer": "ipython3",
   "version": "3.7.4"
  }
 },
 "nbformat": 4,
 "nbformat_minor": 2
}
