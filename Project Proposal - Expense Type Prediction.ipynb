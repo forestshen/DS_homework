{
 "cells": [
  {
   "cell_type": "markdown",
   "metadata": {},
   "source": [
    "# Project Proposal - Service Areas Predction based on GL"
   ]
  },
  {
   "cell_type": "markdown",
   "metadata": {},
   "source": [
    "## Team Members\n",
    "Ashish Dharashivkar  \n",
    "Matt Hanamoto  \n",
    "Lin Shen  \n",
    "Priyesh Rajasekaran  "
   ]
  },
  {
   "cell_type": "markdown",
   "metadata": {},
   "source": [
    "## Problem Statement\n",
    "QuickBooks help small business owners manage their financials. One capabilities that Quickbooks offers is that it connects with customers’ bank account, and have their business accounts’ transactions populated into QuickBooks, so that customers can keep track of their expenses and revenue. \n",
    "\n",
    "\n",
    "Customers can manually tag the expense lines to a specific category, in order to have a better understanding and manage their expenses. But it will be a great advantage that QuickBooks can reasonably accurately categorize the expense types automatically for customers, so that customers can use their valuable time on something more exciting. Machine learning can come into play in this case, to categorize the expenses based on the attributes of the transactions. \n",
    "\n",
    "\n"
   ]
  },
  {
   "cell_type": "markdown",
   "metadata": {},
   "source": [
    "## Proposal"
   ]
  },
  {
   "cell_type": "markdown",
   "metadata": {},
   "source": [
    "### Goals ans success metric of the project\n",
    "The goal of this project is to build a Machine Learning model based on customer bank transactions data, and to predict the expense categories for Utilities, Rent, and Payroll. We focus on these three categories at this moment, because these are typical expense types across all small business owner.\n",
    "\n",
    "\n",
    "Success metric: Accuracy level - 80%\n"
   ]
  },
  {
   "cell_type": "markdown",
   "metadata": {},
   "source": [
    "### Risk and Limitations\n",
    "Effectiveness of model will depend on the quality of the data obtained.  \n",
    "(It depends on what data we can and cannot get, cannot tell at this moment.)"
   ]
  },
  {
   "cell_type": "markdown",
   "metadata": {},
   "source": [
    "## Available Data Set\n",
    "- Customer Bank Transaction Data\n",
    "- Customer Master Data\n"
   ]
  },
  {
   "cell_type": "code",
   "execution_count": null,
   "metadata": {},
   "outputs": [],
   "source": []
  }
 ],
 "metadata": {
  "kernelspec": {
   "display_name": "Python 3",
   "language": "python",
   "name": "python3"
  },
  "language_info": {
   "codemirror_mode": {
    "name": "ipython",
    "version": 3
   },
   "file_extension": ".py",
   "mimetype": "text/x-python",
   "name": "python",
   "nbconvert_exporter": "python",
   "pygments_lexer": "ipython3",
   "version": "3.6.8"
  }
 },
 "nbformat": 4,
 "nbformat_minor": 2
}
