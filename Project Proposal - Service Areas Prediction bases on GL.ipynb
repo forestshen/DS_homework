{
 "cells": [
  {
   "cell_type": "markdown",
   "metadata": {},
   "source": [
    "# Project Proposal - Service Areas Predction based on GL"
   ]
  },
  {
   "cell_type": "markdown",
   "metadata": {},
   "source": [
    "## Team Members"
   ]
  },
  {
   "cell_type": "markdown",
   "metadata": {},
   "source": [
    "## Problem Statement\n",
    "Intuit t4i has a system to track and analyze IT spend, enabling translate IT spend into business service areas, demonstrate IT values that business partners understand, and make smarter decisions on furture investments. In order to support the translation from IT spend to services IT is offering, currently, teams have to manually tag the spending to specific service areas and offerings. It's labor intensive, and time consuming. \n",
    "\n"
   ]
  },
  {
   "cell_type": "markdown",
   "metadata": {},
   "source": [
    "## Proposal"
   ]
  },
  {
   "cell_type": "markdown",
   "metadata": {},
   "source": [
    "### Goals ans success metric of the project\n",
    "The goal of this project is to build a Machine Learning model based on two-year GL data and historical mapping data, and to predict the service areas per GL line. And the manual tagging process shall be removed. \n",
    "\n",
    "Metric: 80%90%? accuracy?"
   ]
  },
  {
   "cell_type": "markdown",
   "metadata": {},
   "source": [
    "### Risk and Limitations\n",
    "The data source we currently have is the GL data. This is for financial book keeping purposes, and might miss some of other important features like PO description, PO requestor, etc. It might impact the model accuracy level."
   ]
  },
  {
   "cell_type": "markdown",
   "metadata": {},
   "source": [
    "## Available Data Set\n",
    "- General Leger \n",
    "- Historial Mapping File"
   ]
  }
 ],
 "metadata": {
  "kernelspec": {
   "display_name": "Python 3",
   "language": "python",
   "name": "python3"
  },
  "language_info": {
   "codemirror_mode": {
    "name": "ipython",
    "version": 3
   },
   "file_extension": ".py",
   "mimetype": "text/x-python",
   "name": "python",
   "nbconvert_exporter": "python",
   "pygments_lexer": "ipython3",
   "version": "3.6.8"
  }
 },
 "nbformat": 4,
 "nbformat_minor": 2
}
