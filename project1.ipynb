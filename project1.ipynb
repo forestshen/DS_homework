{
 "cells": [
  {
   "cell_type": "markdown",
   "metadata": {},
   "source": [
    "<img src=\"http://imgur.com/1ZcRyrc.png\" style=\"float: left; margin: 20px; height: 55px\">\n",
    "\n",
    "# Project 1: Python Coding Exercises\n",
    "\n",
    "_Authors: Joseph Nelson (DC), Dan Wilhelm (LA)_\n",
    "\n",
    "---"
   ]
  },
  {
   "cell_type": "markdown",
   "metadata": {},
   "source": [
    "The following code challenges are drawn from common exercises used in technical interviews.\n",
    "\n",
    "Please note that there may be several ways to approach each challenge. If you get stuck, try mapping out your approach in pseudocode first. Finally, while solutions to problems like these may be found online, remember that if you copy/paste code that you can't explain, you'll be missing out on the point of the project. The only way to truly learn a new skill is through practice, trial, and error - we can only help you improve by understanding where you are having trouble."
   ]
  },
  {
   "cell_type": "markdown",
   "metadata": {},
   "source": [
    "### Challenge 1: Largest Palindrome\n",
    "A palindromic number reads the same both ways. For example, 1234321 is a palindrome. The largest palindrome made from the product of two two-digit numbers is 9009 = 91 × 99. Find the largest palindrome made from the product of two three-digit numbers. Afterward, write a brief explanation walking through your code's logic in markdown."
   ]
  },
  {
   "cell_type": "code",
   "execution_count": null,
   "metadata": {},
   "outputs": [],
   "source": [
    "palindrome = []\n",
    "for i in range(100,1000):\n",
    "    for j in range(100,1000):\n",
    "        product = i*j\n",
    "        if str(product) == str(product)[::-1]:\n",
    "            palindrome.append(product)\n",
    "\n",
    "print(sorted(palindrome)[-1] )           \n",
    "        \n",
    "        "
   ]
  },
  {
   "cell_type": "markdown",
   "metadata": {},
   "source": [
    "#### Logic:  \n",
    "The idea is to first calculate the product of 2 three-digit for all the possible combinations. After the product is calculated, verify if it's a palindrome.  \n",
    "  \n",
    "To verify if it's a palidrome, I converted the product(most likely a integer) to a string, and then using the string slicing method to check if the resersed string is the same as the original string. If it's true, this product is a palidrome, and I add it to the palidrome list.  \n",
    "  \n",
    "Now I get a list of the palidroms that made out of 2 three-digit number. In order to find the biggest number, I sort the list. Since sort default is acsending order, so the the last element of the list is the largest one. \n"
   ]
  },
  {
   "cell_type": "markdown",
   "metadata": {},
   "source": [
    "\n",
    "### Challenge 2: Summation of Primes\n",
    "The sum of the primes below 10 is 2 + 3 + 5 + 7 = 17. Find the sum of all the primes below 2,000. Afterward, write a brief explanation walking through your code's logic in markdown."
   ]
  },
  {
   "cell_type": "code",
   "execution_count": null,
   "metadata": {},
   "outputs": [],
   "source": [
    "primes = []\n",
    "for n in range(2,2000):\n",
    "    for i in range(2,n):\n",
    "        if n%i == 0:\n",
    "            break\n",
    "    else:\n",
    "        primes.append(n)    \n",
    "\n",
    "print(sum(primes))        "
   ]
  },
  {
   "cell_type": "markdown",
   "metadata": {},
   "source": [
    "#### Logic \n",
    "Primes are the numbers that can be only divided by 1 and itsself. The logic is to loop through 2 from 1999 to find all the prime numbers fisrt.(1 is excluded because it's not prime).  \n",
    "  \n",
    "Each number is examined via a loop. For each number, the code use a loop to devide this number by any of the possible numbers that is greate than 1 and smaller than itself. If it can be devided, mean the remainder is zero, then I break the loop and examine the next number. If it exhausts all the possible dividents, then it's a prime number. I add it into the prime number list. \n",
    "  \n",
    "After I get the whole list of primes, I use the sum function to find the sum."
   ]
  },
  {
   "cell_type": "markdown",
   "metadata": {},
   "source": [
    "### Challenge 3: Multiples of 3 and 5\n",
    "If we list all of the natural numbers below 10 that are multiples of 3 or 5, we get 3, 5, 6, and 9. The sum of these multiples is 23. Find the sum of all the multiples of 3 and 5 below 1,000. Afterward, write a brief explanation walking through your code's logic in markdown."
   ]
  },
  {
   "cell_type": "code",
   "execution_count": null,
   "metadata": {},
   "outputs": [],
   "source": [
    "res = []\n",
    "for n in range(1,1000):\n",
    "    if n%3 == 0 or n%5 == 0:\n",
    "        res.append(n)\n",
    "print(sum(res))        "
   ]
  },
  {
   "cell_type": "markdown",
   "metadata": {},
   "source": [
    "#### Logic:  \n",
    "The overall logic is quite similar to Challenge 2, use loop to examine all the numbers below 1000 to see if they can be divided by either 3 or 5. If it's true, append the number to the result list. And use sum funtion to return the total. "
   ]
  },
  {
   "cell_type": "markdown",
   "metadata": {},
   "source": [
    "### Challenge 4: String Compressor\n",
    "Write a function to perform basic string compression using the counts of repeated characters. (This is called run-length encoding.) For example, the string \"aabcccccaaa\" would become a2b1c5a3. If the “compressed” string would not become smaller than the original string, your method should return the original string. You can assume the string has only uppercase and lowercase letters (a–z). Specify whether your solution is case sensitive or case insensitive and what you would need to change to make it the other. Afterward, write a brief explanation walking through your code's logic in markdown."
   ]
  },
  {
   "cell_type": "code",
   "execution_count": null,
   "metadata": {},
   "outputs": [],
   "source": [
    "def string_compressor(word):\n",
    "    if word == \"\":\n",
    "        return word\n",
    "    \n",
    "    compressed = word[0]\n",
    "    start = word[0]\n",
    "    cnt = 1\n",
    "    for s in word[1:]:\n",
    "        if s == start:\n",
    "            cnt+=1\n",
    "        else:\n",
    "            compressed += str(cnt)\n",
    "            compressed += s\n",
    "            cnt = 1\n",
    "            start = s\n",
    "\n",
    "    compressed += str(cnt)          \n",
    "   \n",
    "    if len(compressed) < len(word):\n",
    "        return compressed\n",
    "    else:\n",
    "        return word"
   ]
  },
  {
   "cell_type": "markdown",
   "metadata": {},
   "source": [
    "#### Logic \n",
    "Case sensitive or not: My code above IS case sensitive. In order to be case insensitive, I can user .upper() or.lower() when examin if the next character is the same the previous one.  \n",
    "  \n",
    "First is to check if it's an empty string or not. Return the original one if it's empty.  \n",
    " \n",
    "The compressed string is initialized with the first letter of the input. \"start\" is the pointer that I use to check which letter is now being checked and counted. And the initial count is 1, because the string has at least one letter.  \n",
    "\n",
    "Then I loop through the string starting from the 2nd letter. If it's the same as the \"pointer\", the counter go up by one. It's keep adding until the next string is not the same as the pointer. In this case, the counter should stop and added to the compressed string. The pointer and counter should be re-initialized to get the next letter.   \n",
    "\n",
    "Finally, compare the length between the compressed and original word, return the compressed one only if it's shorter than the original one.\n",
    " \n",
    " "
   ]
  },
  {
   "cell_type": "code",
   "execution_count": null,
   "metadata": {},
   "outputs": [],
   "source": [
    "# test cases:\n",
    "string_compressor(\"C\")"
   ]
  },
  {
   "cell_type": "markdown",
   "metadata": {},
   "source": [
    "### Challenge 5: CSV Reader\n",
    "Write a function `read_csv` that opens a CSV file and returns a list of named tuples. \n",
    "\n",
    "+ Read the [namedtuple docs](https://docs.python.org/3/library/collections.html#collections.namedtuple).\n",
    "+ Do not use the Python CSV reader standard library.\n",
    "+ Assume the first row of the CSV file is always a header row. \n",
    "+ Assume the CSV file does not contain any quoted fields.\n",
    "+ Assume no fields are missing or have invalid values.\n",
    "+ All returned fields can be left as strings.\n",
    "\n",
    "Optional challenges:\n",
    "+ _Optional:_ Support quoted fields. (A double-quoted string can contain commas without indicating a new field.) For an example and test case, see `./data/athletes-original.csv`.\n",
    "+ _Optional:_ Implement the `dtypes` parameter. This dictionary specifies the data type that each CSV field should be converted to. For example, `int` would indicate the field should be converted from a string to an integer. If a field is not named, leave it as a string. See the dictionary in the below starter code for an example.\n",
    "\n",
    "_Hint:_ The final output will look like:\n",
    "\n",
    "[Row(name='Lamusi A', sport='Judo', age='23', height='170', weight='60', country=\"People's Republic of China\", sex='M', gold='0', silver='0', bronze='0', total='0'), \n",
    "\n",
    "Row(name='A G Kruger', sport='Athletics', age='33', height='193', weight='125', country='United States of America', sex='M', gold='0', silver='0', bronze='0', total='0'),\n",
    "\n",
    "...]"
   ]
  },
  {
   "cell_type": "code",
   "execution_count": null,
   "metadata": {},
   "outputs": [],
   "source": [
    "from collections import namedtuple\n",
    "\n",
    "def read_csv(filename, dtypes={}, encoding='utf-8'):\n",
    "    \"\"\" Returns a list of namedtuples. \n",
    "    The fields in each namedtuple are specified by the header row.\"\"\"\n",
    "    rows = []\n",
    "    \n",
    "    # Your code here!\n",
    "    with open('./datasets/athletes-unquoted.csv') as f:\n",
    "        lines = f.readlines()\n",
    "    \n",
    "    data_list = []    \n",
    "    for line in lines:\n",
    "        data_list.append(line.replace('\\n',''))\n",
    "        \n",
    "    header = data_list[0].split(',')\n",
    "    i = 1\n",
    "\n",
    "    Row = namedtuple('Row', header)\n",
    "    #print(Row.__doc__)\n",
    "    while i<len(data_list):\n",
    "        row_data = data_list[i].split(',')\n",
    "        rows.append(Row(*row_data))\n",
    "        i+=1     \n",
    "    \n",
    "    return rows\n",
    "\n",
    "\n",
    "# For the challenge problem only\n",
    "dtypes = {'age': int, 'height': int, 'weight': int, \n",
    "          'gold': int, 'silver': int, 'bronze': int, 'total': int}\n",
    "\n",
    "read_csv('./datasets/athletes-unquoted.csv', dtypes=dtypes)"
   ]
  },
  {
   "cell_type": "markdown",
   "metadata": {},
   "source": [
    "#### Logic \n",
    "1. The code first open and read the csv file. The \"lines\" variable store the conent of the file via a list of elements. Each line of the file is one element of the list. \n",
    "\n",
    "2. After print the lines, each line has a \"\\n\", the next block of the code loop through the list to remove it.  \n",
    "\n",
    "3. Since the header is needed later for the namedtuple, the code extracted the header, and store it as a list. Each element is one coloumn header.   \n",
    "\n",
    "4. Then the namedtuple function is used to creat the structure. In order to get all the rows of the file, the code loop through the lines list, for each line, first split it as a list, and then unpack the list, and use the namedtuple structure to map them. Add then append it to the rows list as the final result. "
   ]
  },
  {
   "cell_type": "markdown",
   "metadata": {},
   "source": [
    "### *BONUS* Challenge: FizzBuzz\n",
    "Write a program that prints all of the numbers from 1 to 100. For multiples of 3, instead of the number, print \"Fizz;\" for multiples of 5, print \"Buzz.\" For numbers that are multiples of both 3 and 5, print \"FizzBuzz.\" Afterward, write a brief explanation walking through your code's logic in markdown."
   ]
  },
  {
   "cell_type": "code",
   "execution_count": null,
   "metadata": {},
   "outputs": [],
   "source": [
    "for n in range(1,101):\n",
    "    if n % 15 == 0:\n",
    "        print(\"FizzBuzz\")\n",
    "    elif n % 5 == 0:\n",
    "        print(\"Buzz\")\n",
    "    elif n % 3 == 0:\n",
    "        print(\"Fizz\")\n",
    "    else:\n",
    "        print(n)"
   ]
  },
  {
   "cell_type": "markdown",
   "metadata": {},
   "source": [
    "#### Logic \n",
    "Loop through from 1 to 100. First need to check if the number can be devided by both 3 and 5(which is 15), if true, print fizzbuzz. Then check if the number can be divided by 3 and 5, and print out the desired words. If none of the above criteria are met, print our the number itself."
   ]
  }
 ],
 "metadata": {
  "anaconda-cloud": {},
  "kernelspec": {
   "display_name": "Python 3",
   "language": "python",
   "name": "python3"
  },
  "language_info": {
   "codemirror_mode": {
    "name": "ipython",
    "version": 3
   },
   "file_extension": ".py",
   "mimetype": "text/x-python",
   "name": "python",
   "nbconvert_exporter": "python",
   "pygments_lexer": "ipython3",
   "version": "3.6.8"
  }
 },
 "nbformat": 4,
 "nbformat_minor": 2
}
